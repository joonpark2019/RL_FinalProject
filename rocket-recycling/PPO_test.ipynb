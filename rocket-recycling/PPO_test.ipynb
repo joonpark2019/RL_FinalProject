{
 "cells": [
  {
   "cell_type": "code",
   "execution_count": 1,
   "metadata": {},
   "outputs": [],
   "source": [
    "import torch\n",
    "from rocket import Rocket\n",
    "from PPO_network import VNetwork, PolicyNetwork\n",
    "import os\n",
    "import glob\n",
    "\n",
    "device = torch.device(\"cuda:0\" if torch.cuda.is_available() else \"cpu\")\n"
   ]
  },
  {
   "cell_type": "code",
   "execution_count": 3,
   "metadata": {},
   "outputs": [
    {
     "name": "stdout",
     "output_type": "stream",
     "text": [
      "hover_ckpt/ckpt_00000003.pt\n"
     ]
    }
   ],
   "source": [
    "\n",
    "if __name__ == '__main__':\n",
    "\n",
    "    task = 'hover'  # 'hover' or 'landing'\n",
    "    max_steps = 800\n",
    "    ckpt_dir = glob.glob(os.path.join(task+'_ckpt', '*.pt'))[-1]  # last ckpt\n",
    "    print(ckpt_dir)\n",
    "    env = Rocket(task=task, max_steps=max_steps)\n",
    "    pi = PolicyNetwork(env.state_dims, env.action_dims)\n",
    "    \n",
    "    \n",
    "    if os.path.exists(ckpt_dir):\n",
    "        checkpoint = torch.load(ckpt_dir, map_location=torch.device(device))\n",
    "        pi.load_state_dict(checkpoint['model_pi_state_dict'])\n",
    "\n",
    "    state = env.reset()\n",
    "    for step_id in range(max_steps):\n",
    "        # action, log_prob, value = net.get_action(state)\n",
    "        probs_target = pi(torch.FloatTensor(state).to(device))\n",
    "        action = torch.multinomial(probs_target, 1).item()\n",
    "        state, reward, done, _ = env.step(action)\n",
    "        env.render(window_name='test')\n",
    "        if env.already_crash:\n",
    "            break\n",
    "\n"
   ]
  }
 ],
 "metadata": {
  "kernelspec": {
   "display_name": "gym",
   "language": "python",
   "name": "gym"
  },
  "language_info": {
   "codemirror_mode": {
    "name": "ipython",
    "version": 3
   },
   "file_extension": ".py",
   "mimetype": "text/x-python",
   "name": "python",
   "nbconvert_exporter": "python",
   "pygments_lexer": "ipython3",
   "version": "3.9.16"
  },
  "orig_nbformat": 4
 },
 "nbformat": 4,
 "nbformat_minor": 2
}
