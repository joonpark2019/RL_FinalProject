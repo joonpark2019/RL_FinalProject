{
 "cells": [
  {
   "cell_type": "code",
   "execution_count": 1,
   "metadata": {},
   "outputs": [],
   "source": [
    "import numpy as np\n",
    "import torch\n",
    "from rocket import Rocket\n",
    "from policy import ActorCritic\n",
    "import matplotlib.pyplot as plt\n",
    "import utils\n",
    "import os\n",
    "import glob\n",
    "\n",
    "# Decide which device we want to run on\n",
    "device = torch.device(\"cuda:0\" if torch.cuda.is_available() else \"cpu\")\n"
   ]
  },
  {
   "cell_type": "code",
   "execution_count": 2,
   "metadata": {},
   "outputs": [
    {
     "name": "stdout",
     "output_type": "stream",
     "text": [
      "episode id: 0, episode reward: 13.367\n"
     ]
    },
    {
     "ename": "AttributeError",
     "evalue": "'Rocket' object has no attribute 'render'",
     "output_type": "error",
     "traceback": [
      "\u001b[0;31m---------------------------------------------------------------------------\u001b[0m",
      "\u001b[0;31mAttributeError\u001b[0m                            Traceback (most recent call last)",
      "\u001b[1;32m/Users/joonpark/Desktop/KAIST_Y4S2/강화학습개론/RL_FinalProject/rocket-recycling/example_train.ipynb Cell 2\u001b[0m in \u001b[0;36m<cell line: 1>\u001b[0;34m()\u001b[0m\n\u001b[1;32m     <a href='vscode-notebook-cell:/Users/joonpark/Desktop/KAIST_Y4S2/%E1%84%80%E1%85%A1%E1%86%BC%E1%84%92%E1%85%AA%E1%84%92%E1%85%A1%E1%86%A8%E1%84%89%E1%85%B3%E1%86%B8%E1%84%80%E1%85%A2%E1%84%85%E1%85%A9%E1%86%AB/RL_FinalProject/rocket-recycling/example_train.ipynb#W1sZmlsZQ%3D%3D?line=38'>39</a>\u001b[0m masks\u001b[39m.\u001b[39mappend(\u001b[39m1\u001b[39m\u001b[39m-\u001b[39mdone)\n\u001b[1;32m     <a href='vscode-notebook-cell:/Users/joonpark/Desktop/KAIST_Y4S2/%E1%84%80%E1%85%A1%E1%86%BC%E1%84%92%E1%85%AA%E1%84%92%E1%85%A1%E1%86%A8%E1%84%89%E1%85%B3%E1%86%B8%E1%84%80%E1%85%A2%E1%84%85%E1%85%A9%E1%86%AB/RL_FinalProject/rocket-recycling/example_train.ipynb#W1sZmlsZQ%3D%3D?line=39'>40</a>\u001b[0m \u001b[39mif\u001b[39;00m episode_id \u001b[39m%\u001b[39m \u001b[39m100\u001b[39m \u001b[39m==\u001b[39m \u001b[39m1\u001b[39m:\n\u001b[0;32m---> <a href='vscode-notebook-cell:/Users/joonpark/Desktop/KAIST_Y4S2/%E1%84%80%E1%85%A1%E1%86%BC%E1%84%92%E1%85%AA%E1%84%92%E1%85%A1%E1%86%A8%E1%84%89%E1%85%B3%E1%86%B8%E1%84%80%E1%85%A2%E1%84%85%E1%85%A9%E1%86%AB/RL_FinalProject/rocket-recycling/example_train.ipynb#W1sZmlsZQ%3D%3D?line=40'>41</a>\u001b[0m     env\u001b[39m.\u001b[39;49mrender()\n\u001b[1;32m     <a href='vscode-notebook-cell:/Users/joonpark/Desktop/KAIST_Y4S2/%E1%84%80%E1%85%A1%E1%86%BC%E1%84%92%E1%85%AA%E1%84%92%E1%85%A1%E1%86%A8%E1%84%89%E1%85%B3%E1%86%B8%E1%84%80%E1%85%A2%E1%84%85%E1%85%A9%E1%86%AB/RL_FinalProject/rocket-recycling/example_train.ipynb#W1sZmlsZQ%3D%3D?line=42'>43</a>\u001b[0m \u001b[39mif\u001b[39;00m done \u001b[39mor\u001b[39;00m step_id \u001b[39m==\u001b[39m max_steps\u001b[39m-\u001b[39m\u001b[39m1\u001b[39m:\n\u001b[1;32m     <a href='vscode-notebook-cell:/Users/joonpark/Desktop/KAIST_Y4S2/%E1%84%80%E1%85%A1%E1%86%BC%E1%84%92%E1%85%AA%E1%84%92%E1%85%A1%E1%86%A8%E1%84%89%E1%85%B3%E1%86%B8%E1%84%80%E1%85%A2%E1%84%85%E1%85%A9%E1%86%AB/RL_FinalProject/rocket-recycling/example_train.ipynb#W1sZmlsZQ%3D%3D?line=43'>44</a>\u001b[0m     _, _, Qval \u001b[39m=\u001b[39m net\u001b[39m.\u001b[39mget_action(state)\n",
      "\u001b[0;31mAttributeError\u001b[0m: 'Rocket' object has no attribute 'render'"
     ]
    }
   ],
   "source": [
    "\n",
    "if __name__ == '__main__':\n",
    "\n",
    "    task = 'hover'  # 'hover' or 'landing'\n",
    "\n",
    "    max_m_episode = 800000\n",
    "    max_steps = 800\n",
    "\n",
    "    env = Rocket(task=task, max_steps=max_steps)\n",
    "    ckpt_folder = os.path.join('./', task + '_ckpt')\n",
    "    if not os.path.exists(ckpt_folder):\n",
    "        os.mkdir(ckpt_folder)\n",
    "\n",
    "    last_episode_id = 0\n",
    "    REWARDS = []\n",
    "\n",
    "    net = ActorCritic(input_dim=env.state_dims, output_dim=env.action_dims).to(device)\n",
    "    if len(glob.glob(os.path.join(ckpt_folder, '*.pt'))) > 0:\n",
    "        # load the last ckpt\n",
    "        checkpoint = torch.load(glob.glob(os.path.join(ckpt_folder, '*.pt'))[-1])\n",
    "        net.load_state_dict(checkpoint['model_G_state_dict'])\n",
    "        last_episode_id = checkpoint['episode_id']\n",
    "        REWARDS = checkpoint['REWARDS']\n",
    "\n",
    "    for episode_id in range(last_episode_id, max_m_episode):\n",
    "\n",
    "        # training loop\n",
    "        state = env.reset()\n",
    "        rewards, log_probs, values, masks = [], [], [], []\n",
    "        \n",
    "        for step_id in range(max_steps):\n",
    "            action, log_prob, value = net.get_action(state)\n",
    "#             print(log_prob)\n",
    "#             print(value)\n",
    "#             print(action)\n",
    "            state, reward, done, _ = env.step(action)\n",
    "            rewards.append(reward)\n",
    "            log_probs.append(log_prob)\n",
    "            values.append(value)\n",
    "            masks.append(1-done)\n",
    "            if episode_id % 100 == 1:\n",
    "                env.render()\n",
    "\n",
    "            if done or step_id == max_steps-1:\n",
    "                _, _, Qval = net.get_action(state)\n",
    "                net.update_ac(net, rewards, log_probs, values, masks, Qval, gamma=0.999)\n",
    "                break\n",
    "\n",
    "        REWARDS.append(np.sum(rewards))\n",
    "        print('episode id: %d, episode reward: %.3f'\n",
    "              % (episode_id, np.sum(rewards)))\n",
    "\n",
    "        if episode_id % 100 == 1:\n",
    "            plt.figure()\n",
    "            plt.plot(REWARDS), plt.plot(utils.moving_avg(REWARDS, N=50))\n",
    "            plt.legend(['episode reward', 'moving avg'], loc=2)\n",
    "            plt.xlabel('m episode')\n",
    "            plt.ylabel('reward')\n",
    "            plt.savefig(os.path.join(ckpt_folder, 'rewards_' + str(episode_id).zfill(8) + '.jpg'))\n",
    "            plt.close()\n",
    "\n",
    "            torch.save({'episode_id': episode_id,\n",
    "                        'REWARDS': REWARDS,\n",
    "                        'model_G_state_dict': net.state_dict()},\n",
    "                       os.path.join(ckpt_folder, 'ckpt_' + str(episode_id).zfill(8) + '.pt'))\n",
    "\n"
   ]
  },
  {
   "cell_type": "code",
   "execution_count": null,
   "metadata": {},
   "outputs": [],
   "source": []
  }
 ],
 "metadata": {
  "kernelspec": {
   "display_name": "gym",
   "language": "python",
   "name": "gym"
  },
  "language_info": {
   "codemirror_mode": {
    "name": "ipython",
    "version": 3
   },
   "file_extension": ".py",
   "mimetype": "text/x-python",
   "name": "python",
   "nbconvert_exporter": "python",
   "pygments_lexer": "ipython3",
   "version": "3.9.16"
  }
 },
 "nbformat": 4,
 "nbformat_minor": 2
}
