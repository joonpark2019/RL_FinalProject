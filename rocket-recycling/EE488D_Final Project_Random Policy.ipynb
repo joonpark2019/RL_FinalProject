{
 "cells": [
  {
   "cell_type": "markdown",
   "id": "d4eaac44",
   "metadata": {},
   "source": [
    "# Random Agent for Rocket-Recycling\n",
    "\n",
    "There are two tasks for rocket-recycling: Hovering and Landing.\n",
    "\n",
    "Note that you should run this code in the same directory you installed the rocket-recycling package\n",
    "unless you add that directory to PYTHONPATH."
   ]
  },
  {
   "cell_type": "markdown",
   "id": "2a2cfb24",
   "metadata": {},
   "source": [
    "## Random Agent for Hovering Task"
   ]
  },
  {
   "cell_type": "code",
   "execution_count": 1,
   "id": "4adc83f0-8d29-42c6-9ba7-6c6784a04280",
   "metadata": {},
   "outputs": [
    {
     "ename": "KeyboardInterrupt",
     "evalue": "",
     "output_type": "error",
     "traceback": [
      "\u001b[0;31m---------------------------------------------------------------------------\u001b[0m",
      "\u001b[0;31mKeyboardInterrupt\u001b[0m                         Traceback (most recent call last)",
      "Input \u001b[0;32mIn [1]\u001b[0m, in \u001b[0;36m<cell line: 11>\u001b[0;34m()\u001b[0m\n\u001b[1;32m     18\u001b[0m action \u001b[38;5;241m=\u001b[39m env\u001b[38;5;241m.\u001b[39mget_random_action()\n\u001b[1;32m     19\u001b[0m state, reward, done, _ \u001b[38;5;241m=\u001b[39m env\u001b[38;5;241m.\u001b[39mstep(action)\n\u001b[0;32m---> 20\u001b[0m \u001b[43menv\u001b[49m\u001b[38;5;241;43m.\u001b[39;49m\u001b[43mrender\u001b[49m\u001b[43m(\u001b[49m\u001b[43m)\u001b[49m\n\u001b[1;32m     22\u001b[0m score \u001b[38;5;241m+\u001b[39m\u001b[38;5;241m=\u001b[39m reward\n\u001b[1;32m     24\u001b[0m \u001b[38;5;28;01mif\u001b[39;00m done \u001b[38;5;129;01mor\u001b[39;00m step \u001b[38;5;241m==\u001b[39m max_steps\u001b[38;5;241m-\u001b[39m\u001b[38;5;241m1\u001b[39m:\n",
      "File \u001b[0;32m~/Desktop/KAIST_Y4S2/강화학습개론/FinalProject/rocket-recycling/rocket.py:309\u001b[0m, in \u001b[0;36mRocket.render\u001b[0;34m(self, window_name, wait_time, with_trajectory, with_camera_tracking, crop_scale)\u001b[0m\n\u001b[1;32m    307\u001b[0m cv2\u001b[38;5;241m.\u001b[39mwaitKey(wait_time)\n\u001b[1;32m    308\u001b[0m cv2\u001b[38;5;241m.\u001b[39mimshow(window_name, frame_1[:,:,::\u001b[38;5;241m-\u001b[39m\u001b[38;5;241m1\u001b[39m])\n\u001b[0;32m--> 309\u001b[0m \u001b[43mcv2\u001b[49m\u001b[38;5;241;43m.\u001b[39;49m\u001b[43mwaitKey\u001b[49m\u001b[43m(\u001b[49m\u001b[43mwait_time\u001b[49m\u001b[43m)\u001b[49m\n\u001b[1;32m    310\u001b[0m \u001b[38;5;28;01mreturn\u001b[39;00m frame_0, frame_1\n",
      "\u001b[0;31mKeyboardInterrupt\u001b[0m: "
     ]
    }
   ],
   "source": [
    "import cv2\n",
    "import numpy as np\n",
    "from rocket import Rocket\n",
    "\n",
    "task = 'hover'  # 'hover' or 'landing'\n",
    "max_episode = 5\n",
    "max_steps = 800\n",
    "\n",
    "env = Rocket(task=task, max_steps=max_steps)\n",
    "\n",
    "for episode in range(max_episode):\n",
    "    state = env.reset()\n",
    "    \n",
    "    score = 0\n",
    "    rewards= []\n",
    "    \n",
    "    for step in range(max_steps):\n",
    "        action = env.get_random_action()\n",
    "        state, reward, done, _ = env.step(action)\n",
    "        env.render()\n",
    "        \n",
    "        score += reward\n",
    "        \n",
    "        if done or step == max_steps-1:\n",
    "            rewards.append(score)\n",
    "            cv2.destroyAllWindows()\n",
    "            break\n",
    "\n",
    "average = np.mean(np.array(rewards))\n",
    "print(f'average rewards = {average}')"
   ]
  },
  {
   "cell_type": "code",
   "execution_count": 2,
   "id": "ee39be4f",
   "metadata": {},
   "outputs": [
    {
     "data": {
      "text/plain": [
       "['/Users/joonpark/Desktop/KAIST_Y4S2/강화학습개론/FinalProject',\n",
       " '/Users/joonpark/anaconda3/envs/gym/lib/python39.zip',\n",
       " '/Users/joonpark/anaconda3/envs/gym/lib/python3.9',\n",
       " '/Users/joonpark/anaconda3/envs/gym/lib/python3.9/lib-dynload',\n",
       " '',\n",
       " '/Users/joonpark/anaconda3/envs/gym/lib/python3.9/site-packages']"
      ]
     },
     "execution_count": 2,
     "metadata": {},
     "output_type": "execute_result"
    }
   ],
   "source": [
    "import os\n",
    "os.sys.path"
   ]
  },
  {
   "cell_type": "markdown",
   "id": "aa7a86e0",
   "metadata": {},
   "source": [
    "## Random Agent for Landing Task"
   ]
  },
  {
   "cell_type": "code",
   "execution_count": 2,
   "id": "073890eb",
   "metadata": {},
   "outputs": [
    {
     "name": "stdout",
     "output_type": "stream",
     "text": [
      "average rewards = -5.117466456949745\n"
     ]
    }
   ],
   "source": [
    "import cv2\n",
    "import numpy as np\n",
    "from rocket import Rocket\n",
    "\n",
    "task = 'landing'  # 'hover' or 'landing'\n",
    "max_episode = 5\n",
    "max_steps = 800\n",
    "\n",
    "env = Rocket(task=task, max_steps=max_steps)\n",
    "\n",
    "for episode in range(max_episode):\n",
    "    state = env.reset()\n",
    "    \n",
    "    score = 0\n",
    "    rewards= []\n",
    "    \n",
    "    for step in range(max_steps):\n",
    "        action = env.get_random_action()\n",
    "        state, reward, done, _ = env.step(action)\n",
    "        env.render()\n",
    "        \n",
    "        score += reward\n",
    "        \n",
    "        if done or step == max_steps-1:\n",
    "            rewards.append(score)\n",
    "            cv2.destroyAllWindows()\n",
    "            break\n",
    "\n",
    "average = np.mean(np.array(rewards))\n",
    "print(f'average rewards = {average}')"
   ]
  },
  {
   "cell_type": "code",
   "execution_count": null,
   "id": "af9cd054",
   "metadata": {},
   "outputs": [],
   "source": []
  }
 ],
 "metadata": {
  "kernelspec": {
   "display_name": "gym",
   "language": "python",
   "name": "gym"
  },
  "language_info": {
   "codemirror_mode": {
    "name": "ipython",
    "version": 3
   },
   "file_extension": ".py",
   "mimetype": "text/x-python",
   "name": "python",
   "nbconvert_exporter": "python",
   "pygments_lexer": "ipython3",
   "version": "3.9.16"
  }
 },
 "nbformat": 4,
 "nbformat_minor": 5
}
